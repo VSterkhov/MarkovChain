{
 "cells": [
  {
   "cell_type": "markdown",
   "id": "fa221f5d-cb4f-4c94-958d-34db1298a998",
   "metadata": {},
   "source": [
    "Загрузим уже имеющиеся наработки по цепи маркова"
   ]
  },
  {
   "cell_type": "code",
   "execution_count": 1,
   "id": "abd26308-4ca8-4dd8-a5ca-52a323a91163",
   "metadata": {},
   "outputs": [],
   "source": [
    "import re\n",
    "import numpy as np\n",
    "import matplotlib.pyplot as plt\n",
    "import seaborn as sns\n",
    "import pandas as pd\n",
    "\n",
    "txts = ['./external_data/war_and_peace/tom_1.txt', './external_data/war_and_peace/tom_2.txt', './external_data/war_and_peace/tom_3.txt', './external_data/war_and_peace/tom_4.txt']\n",
    "\n",
    "contents = \"\"\n",
    "for txt in txts:\n",
    "    with open(txt, encoding='utf-8') as stream:\n",
    "        text = stream.read()\n",
    "        text = re.sub(\"[^А-Яа-я| |.|!|?]\",\"\",text)\n",
    "        text = re.sub(\"[.|!|?]\",\" \",text)\n",
    "        text = text.upper()\n",
    "        contents = contents + \" \" + text if len(contents)>0 else text\n",
    "\n",
    "words = []\n",
    "for word in contents.split(\" \"):\n",
    "    if (len(word)>0):\n",
    "       words.append(word)  \n",
    "    \n",
    "RUSSIAN = \"АБВГДЕЖЗИЙКЛМНОПРСТУФХЦЧШЩЪЫЬЭЮЯ\"\n",
    "POS = {l: i for i, l in enumerate(RUSSIAN)}\n",
    "probabilities = np.zeros((len(RUSSIAN), len(RUSSIAN)))\n",
    "   \n",
    "def split(s):\n",
    "    return [char for char in s]\n",
    "     \n",
    "for word in words:\n",
    "    if (len(word)>1):\n",
    "        for cp, cn in zip(word[:-1], word[1:]):\n",
    "            probabilities[POS[cp], POS[cn]] += 1\n",
    "    \n",
    "probabilities = (probabilities / probabilities.sum(axis=1)[:, None])\n",
    "  \n",
    "df = pd.DataFrame(probabilities, index=(c for c in RUSSIAN), columns=(c for c in RUSSIAN))"
   ]
  },
  {
   "cell_type": "markdown",
   "id": "c4f9483c-95cc-4d12-af10-b2fa63fff2bc",
   "metadata": {},
   "source": [
    "Добавим методы для определения вероятностей подобранных строк"
   ]
  },
  {
   "cell_type": "code",
   "execution_count": 2,
   "id": "96b1bbac-f8d2-4dd6-b70a-49db7d0d78a5",
   "metadata": {},
   "outputs": [],
   "source": [
    "def get_words(let_f, length, count, let_e=None):\n",
    "    depth = length - 1 if let_e == None else length - 2\n",
    "    chains = get_chains(let_f, depth)\n",
    "    out = []\n",
    "    for i in range(count):\n",
    "        out.append((let_f + chains[i][0] + str(let_e or ''), chains[i][1]/depth))\n",
    "    return out\n",
    "\n",
    "def takeSecond(elem):\n",
    "    return elem[1]\n",
    "\n",
    "def get_chains(let, depth):\n",
    "    depth_next = depth - 1\n",
    "    chains = []\n",
    "    for let_n in RUSSIAN:\n",
    "        proba = probabilities[POS[let], POS[let_n]]\n",
    "        if (proba>0.01):\n",
    "            if(depth_next>0):\n",
    "                for chain in get_chains(let_n, depth_next):\n",
    "                    chains.append((let_n+chain[0], proba+chain[1]))\n",
    "            else:\n",
    "                chains.append((let_n, proba))\n",
    "    chains.sort(key=takeSecond, reverse=True)\n",
    "    return chains"
   ]
  },
  {
   "cell_type": "markdown",
   "id": "ba7e5d77-f602-4873-9ddc-7c7a0ac226ac",
   "metadata": {},
   "source": [
    "Вычислим 30 первых вероятных строк из 4-х символов, которая начинается П, а кончается на Р"
   ]
  },
  {
   "cell_type": "code",
   "execution_count": 3,
   "id": "1e8c392c-2bb1-4817-a4de-844330473d29",
   "metadata": {},
   "outputs": [],
   "source": [
    "out = get_words(\"П\",4,30,\"Р\")"
   ]
  },
  {
   "cell_type": "markdown",
   "id": "c7b6ce13-a18a-4982-b717-87a69cd55a06",
   "metadata": {},
   "source": [
    "Выведим строки на экран"
   ]
  },
  {
   "cell_type": "code",
   "execution_count": 4,
   "id": "42def024-18ed-464a-856f-536ad357ee5b",
   "metadata": {},
   "outputs": [
    {
     "name": "stdout",
     "output_type": "stream",
     "text": [
      "[('ПРАР', 0.25248155485854795), ('ПОВР', 0.24313794125321347), ('ПОТР', 0.2383136352932057), ('ПОСР', 0.238046696834654), ('ПОЛР', 0.23678237922642256), ('ПОНР', 0.23601311112314166), ('ПОРР', 0.23351844989231269), ('ПРОР', 0.23017188360589147), ('ПОМР', 0.22465366635513545), ('ПОГР', 0.22378732972147208), ('ПОДР', 0.22328742679000246), ('ПРЕР', 0.22055757450407437), ('ПОЙР', 0.2165338837886435), ('ПОБР', 0.2145682460483989), ('ПРИР', 0.2087417869035334), ('ПОЕР', 0.20824665800724182), ('ПОЖР', 0.20379363917594695), ('ПОКР', 0.202963703241177), ('ПОЧР', 0.20103689291308535), ('ПОПР', 0.20086944969817563), ('ПОШР', 0.19967065334795236), ('ПОЗР', 0.198704821470647), ('ПОИР', 0.19797680749277863), ('ПРУР', 0.17823631117063934), ('ПРЫР', 0.1608888639705336), ('ПРЯР', 0.15303370396931337), ('ПРЬР', 0.1522456458462136), ('ПРНР', 0.14770541420796787), ('ПРТР', 0.14669364926282688), ('ПЕНР', 0.12485774220315793)]\n"
     ]
    }
   ],
   "source": [
    "print(out)"
   ]
  },
  {
   "cell_type": "markdown",
   "id": "b4d4a51f-7b6c-490c-a301-ee696231554f",
   "metadata": {},
   "source": [
    "Запишем полученный результат в файл"
   ]
  },
  {
   "cell_type": "code",
   "execution_count": 5,
   "id": "b01ff67c-fef6-459f-93b2-4cb047e4b5ca",
   "metadata": {},
   "outputs": [],
   "source": [
    "out_df = pd.DataFrame(out, columns = ['STR','PROBA'])\n",
    "out_df.to_csv('./processed/res_strings.csv')"
   ]
  }
 ],
 "metadata": {
  "kernelspec": {
   "display_name": "Python 3 (ipykernel)",
   "language": "python",
   "name": "python3"
  },
  "language_info": {
   "codemirror_mode": {
    "name": "ipython",
    "version": 3
   },
   "file_extension": ".py",
   "mimetype": "text/x-python",
   "name": "python",
   "nbconvert_exporter": "python",
   "pygments_lexer": "ipython3",
   "version": "3.9.12"
  }
 },
 "nbformat": 4,
 "nbformat_minor": 5
}
